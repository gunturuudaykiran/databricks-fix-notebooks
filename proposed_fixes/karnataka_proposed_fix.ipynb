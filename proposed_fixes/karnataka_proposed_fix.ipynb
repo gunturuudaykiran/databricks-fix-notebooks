{
    "cells": [
        {
            "cell_type": "code",
            "metadata": {
                "application/vnd.databricks.v1+cell": {
                    "cellMetadata": {},
                    "inputWidgets": {},
                    "nuid": "92a54494-e20f-435d-81e7-bca677e8d5ec",
                    "showTitle": false,
                    "tableResultSettingsMap": {},
                    "title": ""
                }
            },
            "source": [
                "# MAGIC %sql\n",
                "select * from weather_catalog.weather_schema.weather_karnataka limit 10;"
            ],
            "outputs": []
        },
        {
            "cell_type": "code",
            "metadata": {},
            "source": [
                "df = spark.read.table('weather_catalog.weather_schema.weather_karnataka')\n",
                "display(df.limit(10))"
            ],
            "outputs": []
        }
    ],
    "metadata": {
        "application/vnd.databricks.v1+notebook": {
            "computePreferences": null,
            "dashboards": [],
            "environmentMetadata": null,
            "inputWidgetPreferences": null,
            "language": "python",
            "notebookMetadata": {
                "pythonIndentUnit": 4
            },
            "notebookName": "karnatakadata",
            "widgets": {}
        },
        "language_info": {
            "name": "python"
        }
    },
    "nbformat": 4,
    "nbformat_minor": 0
}
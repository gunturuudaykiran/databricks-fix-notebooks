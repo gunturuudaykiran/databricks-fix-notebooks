{
    "nbformat": 4,
    "nbformat_minor": 0,
    "metadata": {
        "application/vnd.databricks.v1+notebook": {
            "computePreferences": null,
            "dashboards": [],
            "environmentMetadata": null,
            "inputWidgetPreferences": null,
            "language": "python",
            "notebookMetadata": {
                "pythonIndentUnit": 4
            },
            "notebookName": "karnatakadata",
            "widgets": {}
        },
        "language_info": {
            "name": "python"
        }
    },
    "cells": [
        {
            "cell_type": "code",
            "metadata": {},
            "source": [
                "%sql",
                "select * from weather_catalog.weather_schema.weather_karnataka;"
            ],
            "outputs": []
        },
        {
            "cell_type": "code",
            "metadata": {},
            "source": [
                "df = spark.read.table('weather_catalog.weather_schema.weather_karnataka')\n",
                "display(df.limit(10))  # added closing parenthesis"
            ],
            "outputs": []
        }
    ]
}
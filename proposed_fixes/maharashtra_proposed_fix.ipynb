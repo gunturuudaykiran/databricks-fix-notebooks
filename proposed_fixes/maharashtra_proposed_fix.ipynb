{
    "cells": [
        {
            "cell_type": "code",
            "metadata": {
                "application/vnd.databricks.v1+cell": {
                    "cellMetadata": {
                        "byteLimit": 2048000,
                        "implicitDf": true,
                        "rowLimit": 10000
                    },
                    "inputWidgets": {},
                    "nuid": "72333edc-a5bb-434a-bd5a-5254f5c81580",
                    "showTitle": false,
                    "tableResultSettingsMap": {},
                    "title": ""
                }
            },
            "source": [
                "%sql\n",
                "SELECT * FROM weather_catalog.weather_schema.weather_maharashtra LIMIT 10;"
            ],
            "outputs": []
        }
    ],
    "metadata": {
        "application/vnd.databricks.v1+notebook": {
            "computePreferences": null,
            "dashboards": [],
            "environmentMetadata": {
                "base_environment": "",
                "environment_version": "2"
            },
            "inputWidgetPreferences": null,
            "language": "python",
            "notebookMetadata": {
                "mostRecentlyExecutedCommandWithImplicitDF": {
                    "commandId": 5658427841912100,
                    "dataframes": [
                        "_sqldf"
                    ]
                },
                "pythonIndentUnit": 4
            },
            "notebookName": "maharashtradata",
            "widgets": {}
        },
        "language_info": {
            "name": "python"
        }
    },
    "nbformat": 4,
    "nbformat_minor": 0
}
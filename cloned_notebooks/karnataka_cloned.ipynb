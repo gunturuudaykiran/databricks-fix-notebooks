{
    "cells": [
        {
            "cell_type": "code",
            "metadata": {
                "application/vnd.databricks.v1+cell": {
                    "cellMetadata": {},
                    "inputWidgets": {},
                    "nuid": "b9cd915b-97c8-4cc2-a894-32f78e246ee2",
                    "showTitle": false,
                    "tableResultSettingsMap": {},
                    "title": ""
                }
            },
            "source": [
                "%sql\n",
                "SELECT * FROM \"weather_catalog\".\"weather_schema\".\"weather_karnataka\" LIMIT 10;\n",
                "\n"
            ],
            "outputs": []
        },
        {
            "cell_type": "code",
            "metadata": {
                "application/vnd.databricks.v1+cell": {
                    "cellMetadata": {},
                    "inputWidgets": {},
                    "nuid": "92a54494-e20f-435d-81e7-bca677e8d5ec",
                    "showTitle": false,
                    "tableResultSettingsMap": {},
                    "title": ""
                }
            },
            "source": [
                "\n",
                "df = spark.table('weather_catalog.weather_schema.weather_karnataka')\n",
                "display(df.limit(10))"
            ],
            "outputs": []
        }
    ],
    "metadata": {
        "application/vnd.databricks.v1+notebook": {
            "computePreferences": null,
            "dashboards": [],
            "environmentMetadata": null,
            "inputWidgetPreferences": null,
            "language": "python",
            "notebookMetadata": {
                "pythonIndentUnit": 4
            },
            "notebookName": "karnatakadata",
            "widgets": {}
        },
        "language_info": {
            "name": "python"
        }
    },
    "nbformat": 4,
    "nbformat_minor": 0
}